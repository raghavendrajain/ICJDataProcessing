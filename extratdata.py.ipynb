{
 "cells": [
  {
   "cell_type": "code",
   "execution_count": null,
   "metadata": {},
   "outputs": [],
   "source": [
    "# Install package for Japanese dates using pip install erajp\n"
   ]
  },
  {
   "cell_type": "code",
   "execution_count": 1,
   "metadata": {},
   "outputs": [],
   "source": [
    "#!/usr/bin/env python\n",
    "import tika\n",
    "tika.initVM()\n",
    "from tika import parser"
   ]
  },
  {
   "cell_type": "code",
   "execution_count": 281,
   "metadata": {},
   "outputs": [],
   "source": [
    "parsed = parser.from_file(\"sample_ids_in/Sample1.pdf\")\n",
    "data= parsed[\"content\"]\n",
    "# with open('Sample1_extracted.txt', 'w', encoding=\"utf-8\") as f:\n",
    "#         f.write(\"%s\" % data)"
   ]
  },
  {
   "cell_type": "code",
   "execution_count": 292,
   "metadata": {},
   "outputs": [],
   "source": [
    "parsed = parser.from_file(\"sample_ids_in/Sample2.pdf\")\n",
    "data= parsed[\"content\"]\n",
    "# with open('Sample2_extracted.txt', 'w', encoding=\"utf-8\") as f:\n",
    "#         f.write(\"%s\" % data)"
   ]
  },
  {
   "cell_type": "code",
   "execution_count": null,
   "metadata": {},
   "outputs": [],
   "source": [
    "# parsed = parser.from_file(\"sample_ids_in/Sample3.pdf\")\n",
    "# data= parsed[\"content\"]\n",
    "# with open('Sample3_extracted.txt', 'w', encoding=\"utf-8\") as f:\n",
    "#         f.write(\"%s\" % data)"
   ]
  },
  {
   "cell_type": "code",
   "execution_count": null,
   "metadata": {},
   "outputs": [],
   "source": []
  },
  {
   "cell_type": "markdown",
   "metadata": {},
   "source": [
    "# Extracts item 1: account_closing_month"
   ]
  },
  {
   "cell_type": "code",
   "execution_count": 282,
   "metadata": {},
   "outputs": [
    {
     "data": {
      "text/plain": [
       "'201803'"
      ]
     },
     "execution_count": 282,
     "metadata": {},
     "output_type": "execute_result"
    }
   ],
   "source": [
    "import re, datetime  \n",
    "\n",
    "# re.findall('から(.*)まで', data) # to find all instances of date\n",
    "result = re.search('から(.*)まで', data)\n",
    "s = result.group(1)\n",
    "date = [int(s) for s in re.findall(r'\\d+', s)]\n",
    "date = datetime.datetime(date[0], date[1], date[2])\n",
    "alpha = date.year\n",
    "if date.year == 30:\n",
    "    alpha = 2018  \n",
    "account_closing_month = f\"{alpha}{date.month:02d}\"\n",
    "account_closing_month\n"
   ]
  },
  {
   "cell_type": "markdown",
   "metadata": {},
   "source": [
    "# Extract item 2: account_standard_type\n",
    "\"連結貸借対照表\" = 0\n",
    "\n",
    "\"連結財政状態計算書\" = 1"
   ]
  },
  {
   "cell_type": "code",
   "execution_count": 283,
   "metadata": {},
   "outputs": [
    {
     "name": "stdout",
     "output_type": "stream",
     "text": [
      "The account standard type is 0\n"
     ]
    }
   ],
   "source": [
    "import re\n",
    "result1 = re.search('連結貸借対照表', data)\n",
    "result2 = re.search('連結財政状態計算書', data)\n",
    "if result1 is None and result2 is not None:\n",
    "    account_standard_type = 1\n",
    "elif result1 is not None and result2 is None:\n",
    "        account_standard_type = 0\n",
    "else:\n",
    "    account_standard_type = \"Something is wrong, may be check if PDF is correct\"\n",
    "\n",
    "        \n",
    "print(f\"The account standard type is {account_standard_type}\")"
   ]
  },
  {
   "cell_type": "code",
   "execution_count": 220,
   "metadata": {},
   "outputs": [
    {
     "data": {
      "text/plain": [
       "<_sre.SRE_Match object; span=(44742, 44749), match='連結貸借対照表'>"
      ]
     },
     "execution_count": 220,
     "metadata": {},
     "output_type": "execute_result"
    }
   ],
   "source": []
  },
  {
   "cell_type": "markdown",
   "metadata": {},
   "source": [
    "# Extract item 3: hakkoukano_kabu"
   ]
  },
  {
   "cell_type": "code",
   "execution_count": 293,
   "metadata": {},
   "outputs": [
    {
     "name": "stdout",
     "output_type": "stream",
     "text": [
      "The hakkoukano_kabu is 280000000\n"
     ]
    }
   ],
   "source": [
    "result = re.search('発行可能株式総数(.*)株', data)\n",
    "hakkoukano_kabu = result.group(1).strip().replace(',', '')\n",
    "print(f\"The hakkoukano_kabu is {hakkoukano_kabu}\")"
   ]
  },
  {
   "cell_type": "markdown",
   "metadata": {},
   "source": [
    "# Extract item 4 and 5: hakkouzumi_kabu_c"
   ]
  },
  {
   "cell_type": "code",
   "execution_count": 294,
   "metadata": {},
   "outputs": [
    {
     "name": "stdout",
     "output_type": "stream",
     "text": [
      "It is consolidated\n",
      "The hakkoukano_kabu_c is 87789098\n",
      "The hakkoukano_kabu_nc is None\n"
     ]
    }
   ],
   "source": [
    "hakkoukano_kabu_c = None\n",
    "hakkoukano_kabu_nc = None\n",
    "\n",
    "\n",
    "result1 = re.search('発行済株式の総数(.*)株', data)\n",
    "result2 = re.search('自己株式(.*)株', data)\n",
    "\n",
    "if result1 is None:\n",
    "    print(\"Something is wrong\")\n",
    "else:\n",
    "    if result2 is not None:\n",
    "        print(\"It is consolidated\")\n",
    "        #hakkoukano_kabu_c = result1.group(1).strip().replace(',', '') # works with sample 1\n",
    "        hakkoukano_kabu_c = re.findall('\\d+', result1.group(1).replace(',', ''))[0] #changed due to sample 2\n",
    "\n",
    "    elif result2 is None:\n",
    "        print(\"It is unconsolidated\")\n",
    "        hakkoukano_kabu_nc =  result1.group(1).strip().replace(',', '')\n",
    "    else:\n",
    "        print(\"Something is wrong\")\n",
    "    \n",
    "print(f\"The hakkoukano_kabu_c is {hakkoukano_kabu_c}\")\n",
    "print(f\"The hakkoukano_kabu_nc is {hakkoukano_kabu_nc}\")\n",
    " "
   ]
  },
  {
   "cell_type": "code",
   "execution_count": 271,
   "metadata": {},
   "outputs": [
    {
     "data": {
      "text/plain": [
       "<_sre.SRE_Match object; span=(31039, 31075), match='発行済株式の総数 87,789,098株（自己株式 2,096,634株'>"
      ]
     },
     "execution_count": 271,
     "metadata": {},
     "output_type": "execute_result"
    }
   ],
   "source": [
    "result1"
   ]
  },
  {
   "cell_type": "markdown",
   "metadata": {},
   "source": [
    "# Extract item 6: jikokabu"
   ]
  },
  {
   "cell_type": "code",
   "execution_count": 297,
   "metadata": {},
   "outputs": [
    {
     "name": "stdout",
     "output_type": "stream",
     "text": [
      "The jikokabu is 2096634\n"
     ]
    }
   ],
   "source": [
    "# works for both sample1 and sample2\n",
    "\n",
    "result1 = re.search('発行済株式の総数(.*)株', data)\n",
    "start = result1.span()[0]\n",
    "sub_data = data[start: start + 50]\n",
    "\n",
    "result = re.search('自己株式(.*)株', sub_data)\n",
    "jikokabu = result.group(1).strip().replace(',', '')\n",
    "print(f\"The jikokabu is {jikokabu}\")\n",
    "\n",
    "###works for sample1\n",
    "# result = re.search('自己株式(.*)株', data)\n",
    "# jikokabu = result.group(1).strip().replace(',', '')\n",
    "# print(f\"The jikokabu is {jikokabu}\")"
   ]
  },
  {
   "cell_type": "markdown",
   "metadata": {},
   "source": [
    "# Extract the consolidated balance sheet data and yen multiplying factor"
   ]
  },
  {
   "cell_type": "code",
   "execution_count": 296,
   "metadata": {},
   "outputs": [
    {
     "ename": "ValueError",
     "evalue": "substring not found",
     "output_type": "error",
     "traceback": [
      "\u001b[1;31m---------------------------------------------------------------------------\u001b[0m",
      "\u001b[1;31mValueError\u001b[0m                                Traceback (most recent call last)",
      "\u001b[1;32m<ipython-input-296-22d32a4e938c>\u001b[0m in \u001b[0;36m<module>\u001b[1;34m()\u001b[0m\n\u001b[0;32m      4\u001b[0m \u001b[1;33m\u001b[0m\u001b[0m\n\u001b[0;32m      5\u001b[0m \u001b[0mstart\u001b[0m \u001b[1;33m=\u001b[0m \u001b[0mdata\u001b[0m\u001b[1;33m.\u001b[0m\u001b[0mindex\u001b[0m\u001b[1;33m(\u001b[0m\u001b[1;34m'連結貸借対照表'\u001b[0m\u001b[1;33m)\u001b[0m\u001b[1;33m\u001b[0m\u001b[0m\n\u001b[1;32m----> 6\u001b[1;33m \u001b[0mend\u001b[0m   \u001b[1;33m=\u001b[0m \u001b[0mdata\u001b[0m\u001b[1;33m.\u001b[0m\u001b[0mindex\u001b[0m\u001b[1;33m(\u001b[0m\u001b[1;34m\"非支配株主持分\"\u001b[0m\u001b[1;33m)\u001b[0m\u001b[1;33m\u001b[0m\u001b[0m\n\u001b[0m\u001b[0;32m      7\u001b[0m \u001b[0mconsolidated_data\u001b[0m \u001b[1;33m=\u001b[0m \u001b[0mdata\u001b[0m\u001b[1;33m[\u001b[0m\u001b[0mstart\u001b[0m\u001b[1;33m:\u001b[0m \u001b[0mend\u001b[0m\u001b[1;33m+\u001b[0m\u001b[1;36m20\u001b[0m\u001b[1;33m]\u001b[0m \u001b[1;31m#take a little extra because we want value of 非支配株主持分\u001b[0m\u001b[1;33m\u001b[0m\u001b[0m\n\u001b[0;32m      8\u001b[0m \u001b[1;31m## re.sub(r\"\\s+\", \"\", consolidated_data) # remove all white spaces\u001b[0m\u001b[1;33m\u001b[0m\u001b[1;33m\u001b[0m\u001b[0m\n",
      "\u001b[1;31mValueError\u001b[0m: substring not found"
     ]
    }
   ],
   "source": [
    "# Basically, I tried to extract the string between 連結貸借対照表 iten 2 and \"非支配株主持分 item 24. Many of the strings are inside that area. \n",
    "\n",
    "## result = re.search('連結貸借対照表(.*)\"非支配株主持分', data) #it seems that re.search does not work for such a long area\n",
    "\n",
    "start = data.index('連結貸借対照表')\n",
    "end   = data.index(\"非支配株主持分\")\n",
    "consolidated_data = data[start: end+20] #take a little extra because we want value of 非支配株主持分 \n",
    "## re.sub(r\"\\s+\", \"\", consolidated_data) # remove all white spaces\n",
    "# Task To find the （単位：百万円), so that multiplying factor can be determined. \n",
    "# The approach is the following in order\n",
    "\n",
    "# 1. pat = (something), string = consolidate_data\n",
    "# 2. pat = split string by :\n",
    "# 3. Take the remaining of the spplited string\n",
    "\n",
    "#result1 = re.findall('\\(.*?\\)',consolidated_data) #seems this does not work because, brackets are not ()\n",
    "idx_result1 = consolidated_data.index(\"単位\")\n",
    "result2 = consolidated_data[idx_result1: idx_result1+6]\n",
    "if \"百万円\" in result2:\n",
    "    mult_int = 1000000\n",
    "elif \"千円\" in result2:\n",
    "    mult_int = 1000\n",
    "else: \n",
    "    print (\"Unit is missing. Something Wrong\")\n",
    "\n",
    "print(f\"The multiply factor is {mult_int}\")"
   ]
  },
  {
   "cell_type": "code",
   "execution_count": 316,
   "metadata": {},
   "outputs": [
    {
     "ename": "ValueError",
     "evalue": "substring not found",
     "output_type": "error",
     "traceback": [
      "\u001b[1;31m---------------------------------------------------------------------------\u001b[0m",
      "\u001b[1;31mValueError\u001b[0m                                Traceback (most recent call last)",
      "\u001b[1;32m<ipython-input-316-5e13760e99c5>\u001b[0m in \u001b[0;36m<module>\u001b[1;34m()\u001b[0m\n\u001b[1;32m----> 1\u001b[1;33m \u001b[0mstart\u001b[0m \u001b[1;33m=\u001b[0m \u001b[0mdata\u001b[0m\u001b[1;33m.\u001b[0m\u001b[0mindex\u001b[0m\u001b[1;33m(\u001b[0m\u001b[1;34m'連 結 貸 借 対 照 表'\u001b[0m\u001b[1;33m)\u001b[0m\u001b[1;33m;\u001b[0m \u001b[0mstart\u001b[0m\u001b[1;33m\u001b[0m\u001b[0m\n\u001b[0m",
      "\u001b[1;31mValueError\u001b[0m: substring not found"
     ]
    }
   ],
   "source": [
    "start = data.index('連 結 貸 借 対 照 表'); start"
   ]
  },
  {
   "cell_type": "code",
   "execution_count": 300,
   "metadata": {},
   "outputs": [
    {
     "data": {
      "text/plain": [
       "44742"
      ]
     },
     "execution_count": 300,
     "metadata": {},
     "output_type": "execute_result"
    }
   ],
   "source": [
    "start = data.index('連結貸借対照表'); start"
   ]
  },
  {
   "cell_type": "code",
   "execution_count": 315,
   "metadata": {},
   "outputs": [
    {
     "data": {
      "text/plain": [
       "44742"
      ]
     },
     "execution_count": 315,
     "metadata": {},
     "output_type": "execute_result"
    }
   ],
   "source": [
    "start = re.search(r'\\b連結貸借対照表\\b', data);  \n",
    "idx = start.span()[0]; idx"
   ]
  },
  {
   "cell_type": "code",
   "execution_count": 319,
   "metadata": {},
   "outputs": [
    {
     "data": {
      "text/plain": [
       "43605"
      ]
     },
     "execution_count": 319,
     "metadata": {},
     "output_type": "execute_result"
    }
   ],
   "source": [
    "start = re.search(r'\\b連　結　貸　借　対　照　表\\b', data);  \n",
    "idx = start.span()[0]; idx"
   ]
  },
  {
   "cell_type": "code",
   "execution_count": 331,
   "metadata": {},
   "outputs": [
    {
     "name": "stdout",
     "output_type": "stream",
     "text": [
      "連　結　貸　借　対　照　表\n",
      "（平成30年３月31日現在）\n",
      "\n",
      "（単位：百万円）\n",
      "科 目 金 額 科 目 金 額\n",
      "\n",
      "（資産の部） （負債の部）\n",
      "流 動 資 産\n",
      "\n",
      "現 金 及 び 預 金\n",
      "受 取 手 形 及 び 売 掛 金\n",
      "リース債権及びリース投資資産\n",
      "有 価 証 券\n",
      "た な 卸 資 産\n",
      "繰 延 税 金 資 産\n",
      "そ の 他\n",
      "貸 倒 引 当 金\n",
      "\n",
      "固 定 資 産\n",
      "有 形 固 定 資 産\n",
      "\n",
      "建 物 及 び 構 築 物\n",
      "機 械 装 置 及 び 運 搬 具\n",
      "土 地\n",
      "リ ー ス 資 産\n",
      "そ の 他\n",
      "\n",
      "無 形 固 定 資 産\n",
      "ソ フ ト ウ ェ ア\n",
      "ソ フ ト ウ ェ ア 仮 勘 定\n",
      "の れ ん\n",
      "そ の 他\n",
      "\n",
      "投 資 そ の 他 の 資 産\n",
      "投 資 有 価 証 券\n",
      "退 職 給 付 に 係 る 資 産\n",
      "繰 延 税 金 資 産\n",
      "そ の 他\n",
      "貸 倒 引 当 金\n",
      "\n",
      "168,670\n",
      "38,032\n",
      "94,438\n",
      "4,747\n",
      "\n",
      "100\n",
      "9,222\n",
      "6,606\n",
      "\n",
      "15,884\n",
      "△360\n",
      "\n",
      "200,833\n",
      "75,680\n",
      "39,990\n",
      "7,547\n",
      "\n",
      "19,373\n",
      "2,952\n",
      "5,815\n",
      "\n",
      "18,915\n",
      "12,506\n",
      "4,359\n",
      "\n",
      "707\n",
      "1,341\n",
      "\n",
      "106,238\n",
      "78,766\n",
      "5,610\n",
      "4,902\n",
      "\n",
      "17,230\n",
      "△271\n",
      "\n",
      "流 動 負 債 81,312\n",
      "支 払 手 形 及 び 買 掛 金 23,246\n",
      "短 期 借 入 金 4,460\n",
      "未 払 法 人 税 等 6,139\n",
      "賞 与 引 当 金 13,184\n",
      "受 注 損 失 引 当 金 1,075\n",
      "そ の 他 引 当 金 72\n",
      "そ の 他 33,133\n",
      "\n",
      "固 定 負 債 61,893\n",
      "長 期 借 入 金 25,482\n",
      "リ ー ス 債 務 3,997\n",
      "役 員 退 職 慰 労 引 当 金 65\n",
      "退 職 給 付 に 係 る 負 債 17,296\n",
      "繰 延 税 金 負 債 6,473\n",
      "再評価に係る繰延税金負債 403\n",
      "そ の 他 8,173\n",
      "負 債 合 計 143,205\n",
      "\n",
      "（純資産の部）\n",
      "株 主 資 本 193,941\n",
      "\n",
      "資 本 金 10,001\n",
      "資 本 剰 余 金 83,384\n",
      "利 益 剰 余 金 108,298\n",
      "自 己 株 式 △7,742\n",
      "\n",
      "そ の 他 の 包 括 利 益 累 計 額 27,692\n",
      "その他有価証券評価差額金 31,922\n",
      "土 地 再 評 \n"
     ]
    }
   ],
   "source": [
    "print(data[idx: idx + 1000])"
   ]
  },
  {
   "cell_type": "code",
   "execution_count": 330,
   "metadata": {},
   "outputs": [
    {
     "data": {
      "text/plain": [
       "'連\\u3000結\\u3000貸\\u3000借\\u3000対\\u3000照\\u3000表'"
      ]
     },
     "execution_count": 330,
     "metadata": {},
     "output_type": "execute_result"
    }
   ],
   "source": [
    "a=\"連　結　貸　借　対　照　表\"; a"
   ]
  },
  {
   "cell_type": "code",
   "execution_count": 333,
   "metadata": {},
   "outputs": [
    {
     "data": {
      "text/plain": [
       "'連\\u3000結\\u3000貸\\u3000借\\u3000対\\u3000照\\u3000表'"
      ]
     },
     "execution_count": 333,
     "metadata": {},
     "output_type": "execute_result"
    }
   ],
   "source": [
    "b = \"連　結　貸　借　対　照　表\"; b\n"
   ]
  },
  {
   "cell_type": "code",
   "execution_count": 332,
   "metadata": {},
   "outputs": [
    {
     "data": {
      "text/plain": [
       "'連 結 貸 借 対 照 表'"
      ]
     },
     "execution_count": 332,
     "metadata": {},
     "output_type": "execute_result"
    }
   ],
   "source": [
    "a=\"連 結 貸 借 対 照 表\"; a"
   ]
  },
  {
   "cell_type": "code",
   "execution_count": null,
   "metadata": {},
   "outputs": [],
   "source": [
    "a"
   ]
  },
  {
   "cell_type": "markdown",
   "metadata": {},
   "source": [
    "## Extract item 7: kabunusi_sihon_ren"
   ]
  },
  {
   "cell_type": "code",
   "execution_count": 291,
   "metadata": {},
   "outputs": [
    {
     "name": "stdout",
     "output_type": "stream",
     "text": [
      "The kabunusi_sihon_ren is 77600000000\n"
     ]
    }
   ],
   "source": [
    "result1 = re.search(\"株主資本\", consolidated_data)\n",
    "sign = 1\n",
    "if result1:\n",
    "    index = result1.span()[1]\n",
    "    s = consolidated_data[index: index + 15]\n",
    "    s = s.replace(\",\", \"\")\n",
    "    s = s.replace(\" \",\"\") \n",
    "    if \"△\" in s and s.index(\"△\") == 0:\n",
    "        sign = -1 \n",
    "    else:\n",
    "        sign = 1\n",
    "else:\n",
    "    print(\"something wrong\")\n",
    "    \n",
    "result2 = int(re.findall('\\d+', s)[0])\n",
    "kabunusi_sihon_ren = result2 * mult_int * sign  # to get the correct number with trailing zeros\n",
    "\n",
    "print(f\"The kabunusi_sihon_ren is {kabunusi_sihon_ren}\")"
   ]
  },
  {
   "cell_type": "markdown",
   "metadata": {},
   "source": [
    "## Extract item 8: sihon_ren"
   ]
  },
  {
   "cell_type": "code",
   "execution_count": 180,
   "metadata": {},
   "outputs": [
    {
     "name": "stdout",
     "output_type": "stream",
     "text": [
      "The sihon_ren is 10000000000\n"
     ]
    }
   ],
   "source": [
    "result1 = re.search(\"資本金\", consolidated_data)\n",
    "sign = 1\n",
    "if result1:\n",
    "    index = result1.span()[1]\n",
    "    s = consolidated_data[index: index + 15]\n",
    "    s = s.replace(\",\", \"\")\n",
    "    s = s.replace(\" \",\"\") \n",
    "    if \"△\" in s and s.index(\"△\") == 0:\n",
    "        sign = -1 \n",
    "    else:\n",
    "        sign = 1\n",
    "else:\n",
    "    print(\"something wrong\")\n",
    "    \n",
    "result2 = int(re.findall('\\d+', s)[0])\n",
    "sihon_ren = result2 * mult_int * sign  # to get the correct number with trailing zeros\n",
    "\n",
    "print(f\"The sihon_ren is {sihon_ren}\")"
   ]
  },
  {
   "cell_type": "markdown",
   "metadata": {},
   "source": [
    "# Extract item 9: sihon_jyoyo_ren"
   ]
  },
  {
   "cell_type": "code",
   "execution_count": 181,
   "metadata": {},
   "outputs": [
    {
     "name": "stdout",
     "output_type": "stream",
     "text": [
      "The sihon_jyoyo_ren is 38285000000\n"
     ]
    }
   ],
   "source": [
    "result1 = re.search(\"資本剰余金\", consolidated_data)\n",
    "sign = 1\n",
    "if result1:\n",
    "    index = result1.span()[1]\n",
    "    s = consolidated_data[index: index + 15]\n",
    "    s = s.replace(\",\", \"\")\n",
    "    s = s.replace(\" \",\"\") \n",
    "    if \"△\" in s and s.index(\"△\") == 0:\n",
    "        sign = -1 \n",
    "    else:\n",
    "        sign = 1\n",
    "else:\n",
    "    print(\"something wrong\")\n",
    "    \n",
    "result2 = int(re.findall('\\d+', s)[0])\n",
    "sihon_jyoyo_ren = result2 * mult_int * sign  # to get the correct number with trailing zeros\n",
    "\n",
    "print(f\"The sihon_jyoyo_ren is {sihon_jyoyo_ren}\")"
   ]
  },
  {
   "cell_type": "markdown",
   "metadata": {},
   "source": [
    "## Extract item 10: rieki_jyoyo_ren"
   ]
  },
  {
   "cell_type": "code",
   "execution_count": 182,
   "metadata": {},
   "outputs": [
    {
     "name": "stdout",
     "output_type": "stream",
     "text": [
      "The rieki_jyoyo_ren is 29353000000\n"
     ]
    }
   ],
   "source": [
    "result1 = re.search(\"利益剰余金\", consolidated_data)\n",
    "sign = 1\n",
    "sign = 1\n",
    "if result1:\n",
    "    index = result1.span()[1]\n",
    "    s = consolidated_data[index: index + 15]\n",
    "    s = s.replace(\",\", \"\")\n",
    "    s = s.replace(\" \",\"\") \n",
    "    if \"△\" in s and s.index(\"△\") == 0:\n",
    "        sign = -1 \n",
    "    else:\n",
    "        sign = 1\n",
    "else:\n",
    "    print(\"something wrong\")\n",
    "    \n",
    "result2 = int(re.findall('\\d+', s)[0])\n",
    "rieki_jyoyo_ren = result2 * mult_int * sign  # to get the correct number with trailing zeros\n",
    "\n",
    "print(f\"The rieki_jyoyo_ren is {rieki_jyoyo_ren}\")"
   ]
  },
  {
   "cell_type": "markdown",
   "metadata": {},
   "source": [
    "## Extract item 11: jikokabu_ren"
   ]
  },
  {
   "cell_type": "code",
   "execution_count": 183,
   "metadata": {},
   "outputs": [
    {
     "name": "stdout",
     "output_type": "stream",
     "text": [
      "The jikokabu_ren is -38000000\n"
     ]
    }
   ],
   "source": [
    "result1 = re.search(\"自己株式\", consolidated_data)\n",
    "sign = 1\n",
    "if result1:\n",
    "    index = result1.span()[1]\n",
    "    s = consolidated_data[index: index + 15]\n",
    "    s = s.replace(\",\", \"\")\n",
    "    s = s.replace(\" \",\"\") \n",
    "    if \"△\" in s and s.index(\"△\") == 0:\n",
    "        sign = -1 \n",
    "    else:\n",
    "        sign = 1\n",
    "else:\n",
    "    print(\"something wrong\")\n",
    "    \n",
    "result2 = int(re.findall('\\d+', s)[0])\n",
    "jikokabu_ren = result2 * mult_int * sign  # to get the correct number with trailing zeros\n",
    "\n",
    "print(f\"The jikokabu_ren is {jikokabu_ren}\")"
   ]
  },
  {
   "cell_type": "markdown",
   "metadata": {},
   "source": [
    "## Extract item 12: sonota_hokatu_ren"
   ]
  },
  {
   "cell_type": "code",
   "execution_count": 184,
   "metadata": {},
   "outputs": [
    {
     "name": "stdout",
     "output_type": "stream",
     "text": [
      "The sonota_hokatu_ren is -14848000000\n"
     ]
    }
   ],
   "source": [
    "result1_1 = re.search(\"その他の包括利益累計額\", consolidated_data)\n",
    "result1_2 = re.search(\"その他の資本の構成要素\", consolidated_data)\n",
    "result1_3 = re.search(\"累積その他の包括利益\", consolidated_data)\n",
    "resultList = [result1_1, result1_2, result1_3]\n",
    "\n",
    "if any(resultList) is not True:\n",
    "    sonota_hokatu_ren = []\n",
    "    print(f\"The sonota_hokatu_ren is {result2}\")\n",
    "else:\n",
    "    res = [i for i, val in enumerate(resultList) if val][0] \n",
    "    result1 = resultList[res]\n",
    "\n",
    "    sign = 1\n",
    "    if result1:\n",
    "        index = result1.span()[1]\n",
    "        s = consolidated_data[index: index + 15]\n",
    "        s = s.replace(\",\", \"\")\n",
    "        s = s.replace(\" \",\"\") \n",
    "        if \"△\" in s and s.index(\"△\") == 0:\n",
    "            sign = -1 \n",
    "        else:\n",
    "            sign = 1\n",
    "    else:\n",
    "        print(\"something wrong\")\n",
    "\n",
    "    result2 = int(re.findall('\\d+', s)[0])\n",
    "    sonota_hokatu_ren = result2 * mult_int * sign  # to get the correct number with trailing zeros\n",
    "\n",
    "    print(f\"The sonota_hokatu_ren is {sonota_hokatu_ren}\")"
   ]
  },
  {
   "cell_type": "markdown",
   "metadata": {},
   "source": [
    "## Extract item 15: BLUE \n",
    "\n",
    "\n"
   ]
  },
  {
   "cell_type": "code",
   "execution_count": 185,
   "metadata": {},
   "outputs": [
    {
     "name": "stdout",
     "output_type": "stream",
     "text": [
      "The Item 15 is 37316000000\n"
     ]
    }
   ],
   "source": [
    "result1_1 = re.search(\"現金及び預金\", consolidated_data)\n",
    "result1_2 = re.search(\"現金及び現金同等物\", consolidated_data)\n",
    "\n",
    "resultList = [result1_1]\n",
    "item_15 = []\n",
    "if any(resultList) is not True:\n",
    "    item_15 = []\n",
    "    print(f\"The Item 15 is {item_15}\")\n",
    "else:\n",
    "    res = [i for i, val in enumerate(resultList) if val][0] \n",
    "    result1 = resultList[res]\n",
    "    sign = 1\n",
    "    if result1:\n",
    "        index = result1.span()[1]\n",
    "        s = consolidated_data[index: index + 15]\n",
    "        s = s.replace(\",\", \"\")\n",
    "        s = s.replace(\" \",\"\") \n",
    "        if \"△\" in s and s.index(\"△\") == 0:\n",
    "            sign = -1 \n",
    "        else:\n",
    "            sign = 1\n",
    "    else:\n",
    "        print(\"something wrong\")\n",
    "\n",
    "    result2 = int(re.findall('\\d+', s)[0])\n",
    "    item_15 = result2 * mult_int * sign  # to get the correct number with trailing zeros\n",
    "\n",
    "    print(f\"The Item 15 is {item_15}\")"
   ]
  },
  {
   "cell_type": "markdown",
   "metadata": {},
   "source": [
    "## Extract item 19: BLUE"
   ]
  },
  {
   "cell_type": "code",
   "execution_count": 186,
   "metadata": {},
   "outputs": [
    {
     "name": "stdout",
     "output_type": "stream",
     "text": [
      "The Item 19 is 8808000000\n"
     ]
    }
   ],
   "source": [
    "result1_1 = re.search(\"投資有価証券\", consolidated_data)\n",
    "\n",
    "resultList = [result1_1]\n",
    "item_19 = []\n",
    "if any(resultList) is not True:\n",
    "    item_19 = []\n",
    "    print(f\"The Item 19 is {item_19}\")\n",
    "else:\n",
    "    res = [i for i, val in enumerate(resultList) if val][0] \n",
    "    result1 = resultList[res]\n",
    "    sign = 1\n",
    "    if result1:\n",
    "        index = result1.span()[1]\n",
    "        s = consolidated_data[index: index + 15]\n",
    "        s = s.replace(\",\", \"\")\n",
    "        s = s.replace(\" \",\"\") \n",
    "        if \"△\" in s and s.index(\"△\") == 0:\n",
    "            sign = -1 \n",
    "        else:\n",
    "            sign = 1\n",
    "    else:\n",
    "        print(\"something wrong\")\n",
    "\n",
    "    result2 = int(re.findall('\\d+', s)[0])\n",
    "    item_19 = result2 * mult_int * sign  # to get the correct number with trailing zeros\n",
    "\n",
    "    print(f\"The Item 19 is {item_19}\")"
   ]
  },
  {
   "cell_type": "markdown",
   "metadata": {},
   "source": [
    "## Extract item 24: BLUE"
   ]
  },
  {
   "cell_type": "code",
   "execution_count": 187,
   "metadata": {},
   "outputs": [
    {
     "name": "stdout",
     "output_type": "stream",
     "text": [
      "The Item 24 is 3063000000\n"
     ]
    }
   ],
   "source": [
    "result1_1 = re.search(\"非支配株主持分\", consolidated_data)\n",
    "\n",
    "resultList = [result1_1]\n",
    "item_24 = []\n",
    "if any(resultList) is not True:\n",
    "    item_24 = []\n",
    "    print(f\"The Item 24 is {item_24}\")\n",
    "else:\n",
    "    res = [i for i, val in enumerate(resultList) if val][0] \n",
    "    result1 = resultList[res]\n",
    "    sign = 1\n",
    "    if result1:\n",
    "        index = result1.span()[1]\n",
    "        s = consolidated_data[index: index + 15]\n",
    "        s = s.replace(\",\", \"\")\n",
    "        s = s.replace(\" \",\"\") \n",
    "        if \"△\" in s and s.index(\"△\") == 0:\n",
    "            sign = -1 \n",
    "        else:\n",
    "            sign = 1\n",
    "    else:\n",
    "        print(\"something wrong\")\n",
    "\n",
    "    result2 = int(re.findall('\\d+', s)[0])\n",
    "    item_24 = result2 * mult_int * sign  # to get the correct number with trailing zeros\n",
    "\n",
    "    print(f\"The Item 24 is {item_24}\")"
   ]
  },
  {
   "cell_type": "markdown",
   "metadata": {},
   "source": [
    "# Moving to next page"
   ]
  },
  {
   "cell_type": "markdown",
   "metadata": {},
   "source": [
    "## Extract the un-consolidated balance sheet data and yen multiplying factor"
   ]
  },
  {
   "cell_type": "code",
   "execution_count": 188,
   "metadata": {},
   "outputs": [
    {
     "name": "stdout",
     "output_type": "stream",
     "text": [
      "The multiply factor is 1000000\n"
     ]
    }
   ],
   "source": [
    "# Basically, I tried to extract the string between 連結貸借対照表 iten 2 and \"非支配株主持分 item 24. Many of the strings are inside that area. \n",
    "\n",
    "## result = re.search('連結貸借対照表(.*)\"非支配株主持分', data) #it seems that re.search does not work for such a long area\n",
    "\n",
    "matches = re.search(r'\\b貸借対照表\\b', data)\n",
    "start = matches.span()[1]\n",
    "end   = data.index(\"評価・換算差額等\")\n",
    "consolidated_data = data[start: end+20]\n",
    "\n",
    "# Task To find the （単位：百万円), so that multiplying factor can be determined. \n",
    "# The approach is the following in order\n",
    "\n",
    "# 1. pat = (something), string = consolidate_data\n",
    "# 2. pat = split string by :\n",
    "# 3. Take the remaining of the spplited string\n",
    "\n",
    "#result1 = re.findall('\\(.*?\\)',consolidated_data) #seems this does not work because, brackets are not ()\n",
    "idx_result1 = consolidated_data.index(\"単位\")\n",
    "result2 = consolidated_data[idx_result1: idx_result1+6]\n",
    "if \"百万円\" in result2:\n",
    "    mult_int = 1000000\n",
    "elif \"千円\" in result2:\n",
    "    mult_int = 1000\n",
    "else: \n",
    "    print (\"Unit is missing. Something Wrong\")\n",
    "\n",
    "print(f\"The multiply factor is {mult_int}\")"
   ]
  },
  {
   "cell_type": "markdown",
   "metadata": {},
   "source": [
    "## Extract item 13: oya_kizoku_ren "
   ]
  },
  {
   "cell_type": "code",
   "execution_count": 190,
   "metadata": {},
   "outputs": [
    {
     "name": "stdout",
     "output_type": "stream",
     "text": [
      "The oya_kizoku_ren is []\n"
     ]
    }
   ],
   "source": [
    "result1_1 = re.search(\"親会社の所有者に帰属する持分合計\", consolidated_data)\n",
    "result1_2 = re.search(\"当社株主に帰属する資本\", consolidated_data)\n",
    "result1_3 = re.search(\"親会社持分合計\", consolidated_data)\n",
    "result1_4 = re.search(\"親会社の所有者に帰属する持分\", consolidated_data)\n",
    "resultList = [result1_1, result1_2, result1_3, result1_4]\n",
    "oya_kizoku_ren = []\n",
    "if any(resultList) is not True:\n",
    "    oya_kizoku_ren = []\n",
    "    print(f\"The oya_kizoku_ren is {oya_kizoku_ren}\")\n",
    "else:\n",
    "    res = [i for i, val in enumerate(resultList) if val][0] \n",
    "    result1 = resultList[res]\n",
    "    sign = 1\n",
    "    if result1:\n",
    "        index = result1.span()[1]\n",
    "        s = consolidated_data[index: index + 15]\n",
    "        s = s.replace(\",\", \"\")\n",
    "        s = s.replace(\" \",\"\") \n",
    "        if \"△\" in s and s.index(\"△\") == 0:\n",
    "            sign = -1 \n",
    "        else:\n",
    "            sign = 1\n",
    "    else:\n",
    "        print(\"something wrong\")\n",
    "\n",
    "    result2 = int(re.findall('\\d+', s)[0])\n",
    "    oya_kizoku_ren = result2 * mult_int * sign  # to get the correct number with trailing zeros\n",
    "\n",
    "    print(f\"The jikokabu_ren is {oya_kizoku_ren}\")"
   ]
  },
  {
   "cell_type": "markdown",
   "metadata": {},
   "source": [
    "## Extract item 14: kabunusi_sihon_tan"
   ]
  },
  {
   "cell_type": "code",
   "execution_count": 191,
   "metadata": {},
   "outputs": [
    {
     "name": "stdout",
     "output_type": "stream",
     "text": [
      "The kabunusi_sihon_tan is 67388000000\n"
     ]
    }
   ],
   "source": [
    "result1_1 = re.search(\"株主資本\", consolidated_data)\n",
    "resultList = [result1_1]\n",
    "kabunusi_sihon_tan = []\n",
    "if any(resultList) is not True:\n",
    "    kabunusi_sihon_tan = []\n",
    "    print(f\"The kabunusi_sihon_tan is {kabunusi_sihon_tan}\")\n",
    "else:\n",
    "    res = [i for i, val in enumerate(resultList) if val][0] \n",
    "    result1 = resultList[res]\n",
    "    sign = 1\n",
    "    if result1:\n",
    "        index = result1.span()[1]\n",
    "        s = consolidated_data[index: index + 15]\n",
    "        s = s.replace(\",\", \"\")\n",
    "        s = s.replace(\" \",\"\") \n",
    "        if \"△\" in s and s.index(\"△\") == 0:\n",
    "            sign = -1 \n",
    "        else:\n",
    "            sign = 1\n",
    "    else:\n",
    "        print(\"something wrong\")\n",
    "\n",
    "    result2 = int(re.findall('\\d+', s)[0])\n",
    "    kabunusi_sihon_tan = result2 * mult_int * sign  # to get the correct number with trailing zeros\n",
    "\n",
    "    print(f\"The kabunusi_sihon_tan is {kabunusi_sihon_tan}\")"
   ]
  },
  {
   "cell_type": "markdown",
   "metadata": {},
   "source": [
    "## Extract item 16: BLUE"
   ]
  },
  {
   "cell_type": "code",
   "execution_count": 192,
   "metadata": {},
   "outputs": [
    {
     "name": "stdout",
     "output_type": "stream",
     "text": [
      "The item_16 is 10593000000\n"
     ]
    }
   ],
   "source": [
    "result1_1 = re.search(\"現金及び預金\", consolidated_data)\n",
    "result1_2 = re.search(\"現金及び現金同等物\", consolidated_data)\n",
    "resultList = [result1_1, result1_2]\n",
    "item_16 = []\n",
    "if any(resultList) is not True:\n",
    "    item_16 = []\n",
    "    print(f\"The item_16 is {item_16}\")\n",
    "else:\n",
    "    res = [i for i, val in enumerate(resultList) if val][0] \n",
    "    result1 = resultList[res]\n",
    "    sign = 1\n",
    "    if result1:\n",
    "        index = result1.span()[1]\n",
    "        s = consolidated_data[index: index + 15]\n",
    "        s = s.replace(\",\", \"\")\n",
    "        s = s.replace(\" \",\"\") \n",
    "        if \"△\" in s and s.index(\"△\") == 0:\n",
    "            sign = -1 \n",
    "        else:\n",
    "            sign = 1\n",
    "    else:\n",
    "        print(\"something wrong\")\n",
    "\n",
    "    result2 = int(re.findall('\\d+', s)[0])\n",
    "    item_16 = result2 * mult_int * sign  # to get the correct number with trailing zeros\n",
    "\n",
    "    print(f\"The item_16 is {item_16}\")"
   ]
  },
  {
   "cell_type": "markdown",
   "metadata": {},
   "source": [
    "## Extract item 20: BLUE"
   ]
  },
  {
   "cell_type": "code",
   "execution_count": 193,
   "metadata": {},
   "outputs": [
    {
     "name": "stdout",
     "output_type": "stream",
     "text": [
      "The item_20 is 6872000000\n"
     ]
    }
   ],
   "source": [
    "result1_1 = re.search(\"投資有価証券\", consolidated_data)\n",
    "resultList = [result1_1]\n",
    "item_20 = []\n",
    "if any(resultList) is not True:\n",
    "    item_20 = []\n",
    "    print(f\"The item_20 is {item_20}\")\n",
    "else:\n",
    "    res = [i for i, val in enumerate(resultList) if val][0] \n",
    "    result1 = resultList[res]\n",
    "    sign = 1\n",
    "    if result1:\n",
    "        index = result1.span()[1]\n",
    "        s = consolidated_data[index: index + 15]\n",
    "        s = s.replace(\",\", \"\")\n",
    "        s = s.replace(\" \",\"\") \n",
    "        if \"△\" in s and s.index(\"△\") == 0:\n",
    "            sign = -1 \n",
    "        else:\n",
    "            sign = 1\n",
    "    else:\n",
    "        print(\"something wrong\")\n",
    "\n",
    "    result2 = int(re.findall('\\d+', s)[0])\n",
    "    item_20 = result2 * mult_int * sign  # to get the correct number with trailing zeros\n",
    "\n",
    "    print(f\"The item_20 is {item_20}\")"
   ]
  },
  {
   "cell_type": "markdown",
   "metadata": {},
   "source": [
    "## Extract item 21: BLUE"
   ]
  },
  {
   "cell_type": "code",
   "execution_count": 195,
   "metadata": {},
   "outputs": [
    {
     "name": "stdout",
     "output_type": "stream",
     "text": [
      "The item_21 is 3748000000\n"
     ]
    }
   ],
   "source": [
    "result1_1 = re.search(\"評価・換算差額等\", consolidated_data)\n",
    "resultList = [result1_1]\n",
    "item_21 = []\n",
    "if any(resultList) is not True:\n",
    "    item_21 = []\n",
    "    print(f\"The item_21 is {item_21}\")\n",
    "else:\n",
    "    res = [i for i, val in enumerate(resultList) if val][0] \n",
    "    result1 = resultList[res]\n",
    "    sign = 1\n",
    "    if result1:\n",
    "        index = result1.span()[1]\n",
    "        s = consolidated_data[index: index + 15]\n",
    "        s = s.replace(\",\", \"\")\n",
    "        s = s.replace(\" \",\"\") \n",
    "        if \"△\" in s and s.index(\"△\") == 0:\n",
    "            sign = -1 \n",
    "        else:\n",
    "            sign = 1\n",
    "    else:\n",
    "        print(\"something wrong\")\n",
    "\n",
    "    result2 = int(re.findall('\\d+', s)[0])\n",
    "    item_21 = result2 * mult_int * sign  # to get the correct number with trailing zeros\n",
    "\n",
    "    print(f\"The item_21 is {item_21}\")"
   ]
  },
  {
   "cell_type": "code",
   "execution_count": 196,
   "metadata": {},
   "outputs": [
    {
     "data": {
      "text/plain": [
       "'（2018年３月31日現在） （単位：百万円）\\n\\u3000\\n\\n科 目 金 額\\n資産の部\\n流動資産 56,458\\n現金及び預金 10,593\\n受取手形 478\\n売掛金 23,596\\n商品及び製品 9,079\\n仕掛品 1,604\\n原材料及び貯蔵品 1,783\\n前渡金 138\\n前払費用 689\\n短期貸付金 5,042\\n未収入金 3,406\\n繰延税金資産 1,158\\nその他 728\\n貸倒引当金 △1,840\\n固定資産 149,976\\n有形固定資産 27,579\\n建物 6,345\\n構築物 138\\n機械及び装置 573\\n車両運搬具 83\\n工具、器具及び備品 2,087\\n土地 17,529\\n建設仮勘定 820\\n無形固定資産 9,530\\nソフトウェア 9,438\\nその他 92\\n投資その他の資産 112,865\\n投資有価証券 6,872\\n関係会社株式 93,035\\n出資金 1\\n関係会社出資金 4,049\\n長期貸付金 81\\n関係会社長期貸付金 565\\n破産更生債権等 49\\n長期前払費用 555\\n前払年金費用 7,344\\nその他 440\\n貸倒引当金 △129\\n\\n資産合計 206,434\\n\\n科 目 金 額\\n負債の部\\n流動負債 83,477\\n支払手形 644\\n買掛金 17,377\\n短期借入金 23,963\\n一年内返済予定の長期借入金 23,798\\nリース債務 40\\n未払金 8,605\\n未払費用 5,019\\n未払法人税等 374\\n前受金 1,204\\n預り金 682\\n製品保証引当金 227\\n受注損失引当金 678\\nその他 860\\n固定負債 51,820\\n長期借入金 37,059\\nリース債務 60\\n再評価に係る繰延税金負債 1,461\\n繰延税金負債 3,228\\n退職給付引当金 7,903\\n関係会社事業損失引当金 1,361\\n資産除去債務 536\\nその他 209\\n負債合計 135,297\\n純資産の部\\n株主資本 67,388\\n資本金 10,000\\n資本剰余金 48,494\\n資本準備金 10,000\\nその他資本剰余金 38,494\\n利益剰余金 8,932\\nその他利益剰余金 8,932\\n繰越利益剰余金 8,932\\n\\n自己株式 △38\\n評価・換算差額等 3,748\\nその他有価'"
      ]
     },
     "execution_count": 196,
     "metadata": {},
     "output_type": "execute_result"
    }
   ],
   "source": [
    "consolidated_data"
   ]
  },
  {
   "cell_type": "code",
   "execution_count": 200,
   "metadata": {},
   "outputs": [],
   "source": [
    "\n",
    "matches = re.search(r'\\b貸借対照表\\b', data)\n",
    "start = matches.span()[1]\n",
    "end   = data.index(\"評価・換算差額等\")\n",
    "consolidated_data = data[start: end+150]\n"
   ]
  },
  {
   "cell_type": "code",
   "execution_count": 201,
   "metadata": {},
   "outputs": [
    {
     "data": {
      "text/plain": [
       "'（2018年３月31日現在） （単位：百万円）\\n\\u3000\\n\\n科 目 金 額\\n資産の部\\n流動資産 56,458\\n現金及び預金 10,593\\n受取手形 478\\n売掛金 23,596\\n商品及び製品 9,079\\n仕掛品 1,604\\n原材料及び貯蔵品 1,783\\n前渡金 138\\n前払費用 689\\n短期貸付金 5,042\\n未収入金 3,406\\n繰延税金資産 1,158\\nその他 728\\n貸倒引当金 △1,840\\n固定資産 149,976\\n有形固定資産 27,579\\n建物 6,345\\n構築物 138\\n機械及び装置 573\\n車両運搬具 83\\n工具、器具及び備品 2,087\\n土地 17,529\\n建設仮勘定 820\\n無形固定資産 9,530\\nソフトウェア 9,438\\nその他 92\\n投資その他の資産 112,865\\n投資有価証券 6,872\\n関係会社株式 93,035\\n出資金 1\\n関係会社出資金 4,049\\n長期貸付金 81\\n関係会社長期貸付金 565\\n破産更生債権等 49\\n長期前払費用 555\\n前払年金費用 7,344\\nその他 440\\n貸倒引当金 △129\\n\\n資産合計 206,434\\n\\n科 目 金 額\\n負債の部\\n流動負債 83,477\\n支払手形 644\\n買掛金 17,377\\n短期借入金 23,963\\n一年内返済予定の長期借入金 23,798\\nリース債務 40\\n未払金 8,605\\n未払費用 5,019\\n未払法人税等 374\\n前受金 1,204\\n預り金 682\\n製品保証引当金 227\\n受注損失引当金 678\\nその他 860\\n固定負債 51,820\\n長期借入金 37,059\\nリース債務 60\\n再評価に係る繰延税金負債 1,461\\n繰延税金負債 3,228\\n退職給付引当金 7,903\\n関係会社事業損失引当金 1,361\\n資産除去債務 536\\nその他 209\\n負債合計 135,297\\n純資産の部\\n株主資本 67,388\\n資本金 10,000\\n資本剰余金 48,494\\n資本準備金 10,000\\nその他資本剰余金 38,494\\n利益剰余金 8,932\\nその他利益剰余金 8,932\\n繰越利益剰余金 8,932\\n\\n自己株式 △38\\n評価・換算差額等 3,748\\nその他有価証券評価差額金 1,032\\n繰延ヘッジ損益 △600\\n土地再評価差額金 3,316\\n純資産合計 71,136\\n負債及び純資産合計 206,434\\n\\n宝印刷株式会社 2018年05月15日 15時15分 $FOLDER; 49ページ （Tess 1.50(64)'"
      ]
     },
     "execution_count": 201,
     "metadata": {},
     "output_type": "execute_result"
    }
   ],
   "source": [
    "consolidated_data"
   ]
  },
  {
   "cell_type": "code",
   "execution_count": 209,
   "metadata": {},
   "outputs": [
    {
     "data": {
      "text/plain": [
       "'連結貸借対照表（2018年３月31日現在） （単位：百万円）\\n\\u3000\\n\\n科 目 金 額\\n資産の部\\n流動資産 155,182\\n現金及び預金 37,316\\n受取手形及び売掛金 59,789\\n商品及び製品 28,664\\n仕掛品 5,018\\n原材料及び貯蔵品 12,914\\n繰延税金資産 3,638\\nその他 9,016\\n貸倒引当金 △1,175\\n固定資産 99,159\\n有形固定資産 50,216\\n建物及び構築物 12,582\\n機械装置及び運搬具 8,592\\n工具、器具及び備品 6,744\\n土地 21,041\\n建設仮勘定 1,255\\n無形固定資産 17,757\\nのれん 4,483\\nソフトウェア 10,844\\nその他 2,429\\n投資その他の資産 31,185\\n投資有価証券 8,808\\n退職給付に係る資産 16,555\\n繰延税金資産 3,105\\nその他 3,207\\n貸倒引当金 △491\\n\\n資産合計 254,342\\n\\n科 目 金 額\\n負債の部\\n流動負債 110,321\\n支払手形及び買掛金 36,212\\n短期借入金 4,429\\n一年内返済予定の長期借入金 24,561\\n未払金 10,943\\n未払費用 19,448\\n未払法人税等 1,631\\n製品保証引当金 1,315\\n返品調整引当金 1,431\\n受注損失引当金 678\\nその他 9,668\\n固定負債 78,205\\n長期借入金 38,388\\n再評価に係る繰延税金負債 1,461\\n繰延税金負債 8,127\\n退職給付に係る負債 26,676\\nその他 3,550\\n負債合計 188,526\\n純資産の部\\n株主資本 77,600\\n資本金 10,000\\n資本剰余金 38,285\\n利益剰余金 29,353\\n自己株式 △38\\nその他の包括利益累計額 △14,848\\nその他有価証券評価差額金 1,305\\n繰延ヘッジ損益 △588\\n土地再評価差額金 3,316\\n為替換算調整勘定 △16,203\\n退職給付に係る調整累計額 △2,678\\n非支配株主持分 3,063\\n純資産合計 65,816\\n負債及び純資産合計 254,342\\n\\n\\u3000\\n\\n▶\\n事業報告の「会社の体制および方針」、連結計算書類の連結株主資本等変動計算書および連結注記表なら\\nびに計算書類の株主資本等変動計算書および個別注記表につきましては、インターネット上の当社ウェブ\\nサイトhttp://www.jvckenwood.com/ir/stock/stockholder/に記載しております。\\n\\n宝印刷株式会社 2018年05月15日 15時15分 $FOLDER; 47ページ'"
      ]
     },
     "execution_count": 209,
     "metadata": {},
     "output_type": "execute_result"
    }
   ],
   "source": [
    "start = data.index('連結貸借対照表')\n",
    "end   = data.index(\"非支配株主持分\")\n",
    "consolidated_data = data[start: end+250] #take a little extra because we want value of 非支配株主持分 \n",
    "consolidated_data"
   ]
  },
  {
   "cell_type": "code",
   "execution_count": 212,
   "metadata": {},
   "outputs": [
    {
     "data": {
      "text/plain": [
       "<_sre.SRE_Match object; span=(889, 898), match='会社の体制および方'>"
      ]
     },
     "execution_count": 212,
     "metadata": {},
     "output_type": "execute_result"
    }
   ],
   "source": [
    "re.search(\"会社の体制および方\",consolidated_data)"
   ]
  }
 ],
 "metadata": {
  "kernelspec": {
   "display_name": "Python 3",
   "language": "python",
   "name": "python3"
  },
  "language_info": {
   "codemirror_mode": {
    "name": "ipython",
    "version": 3
   },
   "file_extension": ".py",
   "mimetype": "text/x-python",
   "name": "python",
   "nbconvert_exporter": "python",
   "pygments_lexer": "ipython3",
   "version": "3.6.4"
  }
 },
 "nbformat": 4,
 "nbformat_minor": 2
}
